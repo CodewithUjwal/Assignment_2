{
 "cells": [
  {
   "cell_type": "code",
   "execution_count": null,
   "id": "fc8d46e4-68aa-4816-88d3-0cfb0d8e3420",
   "metadata": {},
   "outputs": [],
   "source": [
    "Q1\n",
    "Ans - We basically Comment Code in pyhton with # key and '''\n",
    "                                                         ''' &\n",
    "                                                         \"\"\"\n",
    "                                                         \"\"\"\n",
    "types of comments are single line, multi line and docstring"
   ]
  },
  {
   "cell_type": "code",
   "execution_count": null,
   "id": "f5b11de2-c7fe-458f-a8ed-4c079930a54a",
   "metadata": {},
   "outputs": [],
   "source": [
    "Q2 \n",
    "Ans - variables are containers for storing data\n",
    "x=5\n",
    "y='ujwal'\n",
    "var= 4"
   ]
  },
  {
   "cell_type": "code",
   "execution_count": 2,
   "id": "75894406-fe34-450c-868c-c5a873059e0c",
   "metadata": {},
   "outputs": [
    {
     "data": {
      "text/plain": [
       "int"
      ]
     },
     "execution_count": 2,
     "metadata": {},
     "output_type": "execute_result"
    }
   ],
   "source": [
    "#Q3\n",
    "x=5\n",
    "type(x)"
   ]
  },
  {
   "cell_type": "code",
   "execution_count": 3,
   "id": "af23d275-5b2c-42ab-bad8-c4ddda5ebc93",
   "metadata": {},
   "outputs": [
    {
     "data": {
      "text/plain": [
       "str"
      ]
     },
     "execution_count": 3,
     "metadata": {},
     "output_type": "execute_result"
    }
   ],
   "source": [
    "y='ujwal'\n",
    "type(y)"
   ]
  },
  {
   "cell_type": "code",
   "execution_count": 4,
   "id": "f6ee4d09-0c98-43ca-8cf6-97b70afedd23",
   "metadata": {},
   "outputs": [
    {
     "data": {
      "text/plain": [
       "list"
      ]
     },
     "execution_count": 4,
     "metadata": {},
     "output_type": "execute_result"
    }
   ],
   "source": [
    "a=[]\n",
    "type(a)"
   ]
  },
  {
   "cell_type": "code",
   "execution_count": 5,
   "id": "f11bddfe-1cb9-4206-8030-17a0d3c4af0e",
   "metadata": {},
   "outputs": [
    {
     "data": {
      "text/plain": [
       "float"
      ]
     },
     "execution_count": 5,
     "metadata": {},
     "output_type": "execute_result"
    }
   ],
   "source": [
    "b= 123.4\n",
    "type(b)"
   ]
  },
  {
   "cell_type": "code",
   "execution_count": null,
   "id": "8bb8e53f-656d-429d-8fa5-81ec8a39bef8",
   "metadata": {},
   "outputs": [],
   "source": [
    "Q4\n",
    "Ans - First we will goind to open command line and we will check if we have a python version and then we will write the following code of python like\n",
    "       print('hello') in command line\n",
    "    "
   ]
  },
  {
   "cell_type": "code",
   "execution_count": 8,
   "id": "c87c2bca-3acc-4053-ba35-7dc45b58defb",
   "metadata": {},
   "outputs": [
    {
     "data": {
      "text/plain": [
       "[2, 3]"
      ]
     },
     "execution_count": 8,
     "metadata": {},
     "output_type": "execute_result"
    }
   ],
   "source": [
    "#Q5\n",
    "#Ans\n",
    "l=[1,2,3,4,5]\n",
    "l[1:3]\n"
   ]
  },
  {
   "cell_type": "code",
   "execution_count": 9,
   "id": "fc367e6d-47d1-40a3-90c1-88282e3eb4db",
   "metadata": {},
   "outputs": [
    {
     "data": {
      "text/plain": [
       "complex"
      ]
     },
     "execution_count": 9,
     "metadata": {},
     "output_type": "execute_result"
    }
   ],
   "source": [
    "#Q6\n",
    "#Ans - Complex number in mathematics is basically a combination of real and imaginary numbers a+ib\n",
    "#In python it is represented by \n",
    "\n",
    "y = 5+4j\n",
    "type(y)"
   ]
  },
  {
   "cell_type": "code",
   "execution_count": 10,
   "id": "99974b28-1a0d-4101-9eb3-11c22af44fa1",
   "metadata": {},
   "outputs": [
    {
     "data": {
      "text/plain": [
       "int"
      ]
     },
     "execution_count": 10,
     "metadata": {},
     "output_type": "execute_result"
    }
   ],
   "source": [
    "#Q7\n",
    "#Ans-\n",
    "age=int(25)\n",
    "type(age)"
   ]
  },
  {
   "cell_type": "code",
   "execution_count": 11,
   "id": "b955b129-e97a-4ba1-aa6d-de259ad23cc4",
   "metadata": {},
   "outputs": [
    {
     "data": {
      "text/plain": [
       "float"
      ]
     },
     "execution_count": 11,
     "metadata": {},
     "output_type": "execute_result"
    }
   ],
   "source": [
    "#Q8\n",
    "#Ans -\n",
    "price= 99.9\n",
    "type(price)"
   ]
  },
  {
   "cell_type": "code",
   "execution_count": 12,
   "id": "43a359de-ce1a-490b-8d08-7d96f587bd4d",
   "metadata": {},
   "outputs": [],
   "source": [
    "#Q9\n",
    "#Ans -\n",
    "name = 'Ujwal Singh'"
   ]
  },
  {
   "cell_type": "code",
   "execution_count": 13,
   "id": "d3687eeb-7b06-4de7-a68f-a3cd9efba001",
   "metadata": {},
   "outputs": [
    {
     "data": {
      "text/plain": [
       "'Ujwal Singh'"
      ]
     },
     "execution_count": 13,
     "metadata": {},
     "output_type": "execute_result"
    }
   ],
   "source": [
    "name"
   ]
  },
  {
   "cell_type": "code",
   "execution_count": 25,
   "id": "da4ebbf2-c903-41b8-b730-46e80aa70839",
   "metadata": {},
   "outputs": [
    {
     "data": {
      "text/plain": [
       "'World'"
      ]
     },
     "execution_count": 25,
     "metadata": {},
     "output_type": "execute_result"
    }
   ],
   "source": [
    "#Q10\n",
    "#Ans - \n",
    "a = 'Hello , World!'\n",
    "a[8:13]"
   ]
  },
  {
   "cell_type": "code",
   "execution_count": 26,
   "id": "14c56b1a-b3c9-44b4-bf6f-017296434234",
   "metadata": {},
   "outputs": [
    {
     "name": "stdout",
     "output_type": "stream",
     "text": [
      "True\n"
     ]
    }
   ],
   "source": [
    "#Q11\n",
    "#Ans - \n",
    "is_student = True\n",
    "print(is_student)\n"
   ]
  },
  {
   "cell_type": "code",
   "execution_count": null,
   "id": "0ea76f23-3a18-4d8b-80e9-5586b67112e6",
   "metadata": {},
   "outputs": [],
   "source": []
  }
 ],
 "metadata": {
  "kernelspec": {
   "display_name": "Python 3 (ipykernel)",
   "language": "python",
   "name": "python3"
  },
  "language_info": {
   "codemirror_mode": {
    "name": "ipython",
    "version": 3
   },
   "file_extension": ".py",
   "mimetype": "text/x-python",
   "name": "python",
   "nbconvert_exporter": "python",
   "pygments_lexer": "ipython3",
   "version": "3.10.8"
  }
 },
 "nbformat": 4,
 "nbformat_minor": 5
}
